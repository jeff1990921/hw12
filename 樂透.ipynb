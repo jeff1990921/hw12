{
  "nbformat": 4,
  "nbformat_minor": 0,
  "metadata": {
    "colab": {
      "name": "樂透.ipynb",
      "provenance": [],
      "collapsed_sections": []
    },
    "kernelspec": {
      "name": "python3",
      "display_name": "Python 3"
    }
  },
  "cells": [
    {
      "cell_type": "markdown",
      "metadata": {
        "id": "eJnC5HRS5Fs9",
        "colab_type": "text"
      },
      "source": [
        "大樂透：從1到42中隨機抽取六個不同的數字"
      ]
    },
    {
      "cell_type": "code",
      "metadata": {
        "id": "o7h-j0I74FuA",
        "colab_type": "code",
        "colab": {}
      },
      "source": [
        "import random\n",
        "def lottery():\n",
        "  result = []\n",
        "  while len(result) < 6:\n",
        "    n = random.randint(1,42)\n",
        "    if n not in result:\n",
        "      result.append(n)\n",
        "  return sorted(result)"
      ],
      "execution_count": 0,
      "outputs": []
    },
    {
      "cell_type": "code",
      "metadata": {
        "id": "pFUhoskW5iGZ",
        "colab_type": "code",
        "outputId": "59500f1b-2b4c-4e2f-c536-df4ed439d786",
        "colab": {
          "base_uri": "https://localhost:8080/",
          "height": 34
        }
      },
      "source": [
        "lottery()"
      ],
      "execution_count": 0,
      "outputs": [
        {
          "output_type": "execute_result",
          "data": {
            "text/plain": [
              "[4, 16, 20, 22, 28, 36]"
            ]
          },
          "metadata": {
            "tags": []
          },
          "execution_count": 4
        }
      ]
    }
  ]
}